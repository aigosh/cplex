{
 "cells": [
  {
   "cell_type": "code",
   "execution_count": 1,
   "metadata": {},
   "outputs": [],
   "source": [
    "from cplex import Cplex"
   ]
  },
  {
   "cell_type": "code",
   "execution_count": 2,
   "metadata": {},
   "outputs": [],
   "source": [
    "problem_type = Cplex.problem_type"
   ]
  },
  {
   "cell_type": "code",
   "execution_count": 3,
   "metadata": {},
   "outputs": [],
   "source": [
    "problem = Cplex()"
   ]
  },
  {
   "cell_type": "code",
   "execution_count": 4,
   "metadata": {},
   "outputs": [],
   "source": [
    "sense = problem.objective.sense"
   ]
  },
  {
   "cell_type": "markdown",
   "metadata": {},
   "source": [
    "Зададим целевую функцию"
   ]
  },
  {
   "cell_type": "code",
   "execution_count": 5,
   "metadata": {},
   "outputs": [],
   "source": [
    "problem.set_problem_type(type=problem_type.LP)\n",
    "problem.objective.set_sense(sense=sense.minimize)"
   ]
  },
  {
   "cell_type": "code",
   "execution_count": 6,
   "metadata": {},
   "outputs": [],
   "source": [
    "variables = ['x1', 'x2', 'x3']\n",
    "fn = [3.0, 2.0, 1.0]"
   ]
  },
  {
   "cell_type": "code",
   "execution_count": 7,
   "metadata": {},
   "outputs": [
    {
     "data": {
      "text/plain": [
       "range(0, 3)"
      ]
     },
     "execution_count": 7,
     "metadata": {},
     "output_type": "execute_result"
    }
   ],
   "source": [
    "problem.variables.add(names=variables, obj=fn)"
   ]
  },
  {
   "cell_type": "markdown",
   "metadata": {},
   "source": [
    "Зададим ограничения"
   ]
  },
  {
   "cell_type": "code",
   "execution_count": 8,
   "metadata": {},
   "outputs": [],
   "source": [
    "constraints = [\n",
    "    [0.0, 1.0, 1.0, 'G', 4.0],\n",
    "    [2.0, 1.0, 2.0, 'G', 6.0],\n",
    "    [2.0, -1.0, 2.0, 'G', 2.0],\n",
    "]"
   ]
  },
  {
   "cell_type": "code",
   "execution_count": 9,
   "metadata": {},
   "outputs": [],
   "source": [
    "for i in range(0, len(constraints)):\n",
    "    constraint = constraints[i]\n",
    "    \n",
    "    X = constraint[:len(constraint) - 2] # отрежем левую часть ограничений\n",
    "    \n",
    "    lh = [variables, X] # левая часть ограничения\n",
    "    sign = constraint[len(constraint) - 2] # знак\n",
    "    rh = constraint[len(constraint) - 1] # правая часть ограничения\n",
    "    \n",
    "    problem.linear_constraints.add(names=['constraint' + str(i)], lin_expr=[lh], senses=[sign], rhs=[rh])"
   ]
  },
  {
   "cell_type": "code",
   "execution_count": 10,
   "metadata": {},
   "outputs": [
    {
     "name": "stdout",
     "output_type": "stream",
     "text": [
      "CPXPARAM_Read_DataCheck                          1\n",
      "Tried aggregator 1 time.\n",
      "LP Presolve eliminated 3 rows and 3 columns.\n",
      "All rows and columns eliminated.\n",
      "Presolve time = 0.00 sec. (0.00 ticks)\n"
     ]
    }
   ],
   "source": [
    "problem.solve()"
   ]
  },
  {
   "cell_type": "code",
   "execution_count": 11,
   "metadata": {},
   "outputs": [
    {
     "name": "stdout",
     "output_type": "stream",
     "text": [
      "x1 = 0.0\n",
      "x2 = 0.0\n",
      "x3 = 4.0\n",
      "f(x) = 4.0\n"
     ]
    }
   ],
   "source": [
    "opt_point = problem.solution.get_values()\n",
    "solution = problem.solution.get_objective_value()\n",
    "\n",
    "for i in range(0, len(variables)):\n",
    "    variable = variables[i]\n",
    "    value = opt_point[i]\n",
    "    \n",
    "    print(variable, '=', value)\n",
    "    \n",
    "print('f(x) =', solution)"
   ]
  },
  {
   "cell_type": "code",
   "execution_count": null,
   "metadata": {},
   "outputs": [],
   "source": []
  }
 ],
 "metadata": {
  "kernelspec": {
   "display_name": "Python 3",
   "language": "python",
   "name": "python3"
  },
  "language_info": {
   "codemirror_mode": {
    "name": "ipython",
    "version": 3
   },
   "file_extension": ".py",
   "mimetype": "text/x-python",
   "name": "python",
   "nbconvert_exporter": "python",
   "pygments_lexer": "ipython3",
   "version": "3.6.5"
  }
 },
 "nbformat": 4,
 "nbformat_minor": 2
}
